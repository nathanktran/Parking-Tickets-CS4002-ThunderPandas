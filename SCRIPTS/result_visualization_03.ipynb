{
 "cells": [
  {
   "cell_type": "code",
   "execution_count": null,
   "id": "ea7fef0f",
   "metadata": {
    "vscode": {
     "languageId": "plaintext"
    }
   },
   "outputs": [],
   "source": [
    "import pandas as pd\n",
    "import numpy as np\n",
    "import matplotlib.pyplot as plt\n",
    "import seaborn as sns\n",
    "from datetime import datetime\n",
    "import warnings\n",
    "warnings.filterwarnings('ignore')\n",
    "\n",
    "# Model imports\n",
    "from sklearn.model_selection import TimeSeriesSplit\n",
    "from sklearn.linear_model import PoissonRegressor\n",
    "from sklearn.ensemble import RandomForestRegressor\n",
    "from sklearn.preprocessing import LabelEncoder\n",
    "from sklearn.metrics import mean_squared_error, mean_absolute_percentage_error\n",
    "\n",
    "# Set random seed for reproducibility\n",
    "np.random.seed(42)"
   ]
  },
  {
   "cell_type": "code",
   "execution_count": null,
   "id": "f08992dc",
   "metadata": {
    "vscode": {
     "languageId": "plaintext"
    }
   },
   "outputs": [],
   "source": [
    "# =============================================================================\n",
    "# STEP 9: GENERATE VISUALIZATIONS\n",
    "# =============================================================================\n",
    "print(\"\\n[STEP 9] Generating visualizations...\")\n",
    "\n",
    "# 1. Model Comparison Bar Chart\n",
    "plt.figure(figsize=(10, 6))\n",
    "models = results_df['Model']\n",
    "rmse_values = results_df['Avg RMSE']\n",
    "colors = ['#d62728', '#ff7f0e', '#2ca02c', '#1f77b4']\n",
    "\n",
    "plt.bar(models, rmse_values, color=colors, alpha=0.7, edgecolor='black')\n",
    "plt.axhline(y=baseline_rmse, color='red', linestyle='--', label='Naive Baseline')\n",
    "plt.xlabel('Model', fontsize=12, fontweight='bold')\n",
    "plt.ylabel('Average RMSE', fontsize=12, fontweight='bold')\n",
    "plt.title('Model Performance Comparison (Cross-Validation)', fontsize=14, fontweight='bold')\n",
    "plt.xticks(rotation=15, ha='right')\n",
    "plt.legend()\n",
    "plt.tight_layout()\n",
    "plt.savefig('model_comparison_rmse.png', dpi=300, bbox_inches='tight')\n",
    "print(\"Saved: model_comparison_rmse.png\")\n",
    "plt.close()\n",
    "\n",
    "# 2. Predictions vs Actual (Random Forest)\n",
    "plt.figure(figsize=(10, 6))\n",
    "plt.scatter(y_test_final, rf_final_pred, alpha=0.5, s=20)\n",
    "plt.plot([y_test_final.min(), y_test_final.max()],\n",
    "         [y_test_final.min(), y_test_final.max()],\n",
    "         'r--', lw=2, label='Perfect Prediction')\n",
    "plt.xlabel('Actual Ticket Count', fontsize=12, fontweight='bold')\n",
    "plt.ylabel('Predicted Ticket Count', fontsize=12, fontweight='bold')\n",
    "plt.title('Random Forest: Predicted vs Actual Ticket Counts', fontsize=14, fontweight='bold')\n",
    "plt.legend()\n",
    "plt.tight_layout()\n",
    "plt.savefig('rf_predictions_vs_actual.png', dpi=300, bbox_inches='tight')\n",
    "print(\"Saved: rf_predictions_vs_actual.png\")\n",
    "plt.close()\n",
    "\n",
    "# 3. Feature Importance (Random Forest)\n",
    "feature_importance = pd.DataFrame({\n",
    "    'Feature': feature_cols,\n",
    "    'Importance': final_rf.feature_importances_\n",
    "}).sort_values('Importance', ascending=False)\n",
    "\n",
    "plt.figure(figsize=(10, 6))\n",
    "plt.barh(feature_importance['Feature'], feature_importance['Importance'], color='steelblue')\n",
    "plt.xlabel('Importance Score', fontsize=12, fontweight='bold')\n",
    "plt.ylabel('Feature', fontsize=12, fontweight='bold')\n",
    "plt.title('Random Forest Feature Importance', fontsize=14, fontweight='bold')\n",
    "plt.gca().invert_yaxis()\n",
    "plt.tight_layout()\n",
    "plt.savefig('feature_importance.png', dpi=300, bbox_inches='tight')\n",
    "print(\"Saved: feature_importance.png\")\n",
    "plt.close()\n",
    "\n",
    "# 4. Residual Plot\n",
    "residuals = y_test_final - rf_final_pred\n",
    "plt.figure(figsize=(10, 6))\n",
    "plt.scatter(rf_final_pred, residuals, alpha=0.5, s=20)\n",
    "plt.axhline(y=0, color='r', linestyle='--', lw=2)\n",
    "plt.xlabel('Predicted Ticket Count', fontsize=12, fontweight='bold')\n",
    "plt.ylabel('Residuals', fontsize=12, fontweight='bold')\n",
    "plt.title('Random Forest Residual Plot', fontsize=14, fontweight='bold')\n",
    "plt.tight_layout()\n",
    "plt.savefig('residual_plot.png', dpi=300, bbox_inches='tight')\n",
    "print(\"Saved: residual_plot.png\")\n",
    "plt.close()"
   ]
  },
  {
   "cell_type": "code",
   "execution_count": null,
   "id": "2726987a",
   "metadata": {
    "vscode": {
     "languageId": "plaintext"
    }
   },
   "outputs": [],
   "source": [
    "# =============================================================================\n",
    "# STEP 10: SAVE RESULTS\n",
    "# =============================================================================\n",
    "print(\"\\n[STEP 10] Saving results...\")\n",
    "\n",
    "# Save model performance metrics\n",
    "results_df.to_csv('model_performance_metrics.csv', index=False)\n",
    "print(\"Saved: model_performance_metrics.csv\")\n",
    "\n",
    "# Save feature importance\n",
    "feature_importance.to_csv('feature_importance.csv', index=False)\n",
    "print(\"Saved: feature_importance.csv\")\n",
    "\n",
    "# Save final predictions\n",
    "predictions_df = pd.DataFrame({\n",
    "    'Actual': y_test_final.values,\n",
    "    'Poisson_Predicted': poisson_final_pred,\n",
    "    'RandomForest_Predicted': rf_final_pred,\n",
    "    'Poisson_Error': y_test_final.values - poisson_final_pred,\n",
    "    'RF_Error': y_test_final.values - rf_final_pred\n",
    "})\n",
    "predictions_df.to_csv('../OUTPUT/final_predictions.csv', index=False)\n",
    "print(\"Saved: final_predictions.csv\")\n",
    "\n",
    "print(\"\\n\" + \"=\"*80)\n",
    "print(\"ANALYSIS COMPLETE\")\n",
    "print(\"=\"*80)\n",
    "print(f\"\\nAll outputs saved to ../OUTPUT/ directory\")\n",
    "print(f\"Review the visualizations and metrics to assess model performance.\")\n",
    "print(f\"\\nNext steps:\")\n",
    "print(f\"1. Review OUTPUT folder for all generated figures and tables\")\n",
    "print(f\"2. Update README.md with reproduction instructions\")\n",
    "print(f\"3. Prepare presentation materials using these results\")\n",
    "print(\"=\"*80)"
   ]
  }
 ],
 "metadata": {
  "language_info": {
   "name": "python"
  }
 },
 "nbformat": 4,
 "nbformat_minor": 5
}
