{
 "cells": [
  {
   "cell_type": "code",
   "execution_count": null,
   "id": "e2130c8a",
   "metadata": {
    "vscode": {
     "languageId": "plaintext"
    }
   },
   "outputs": [],
   "source": [
    "import pandas as pd\n",
    "import numpy as np\n",
    "import matplotlib.pyplot as plt\n",
    "import seaborn as sns\n",
    "from datetime import datetime\n",
    "import warnings\n",
    "warnings.filterwarnings('ignore')\n",
    "\n",
    "# Model imports\n",
    "from sklearn.model_selection import TimeSeriesSplit\n",
    "from sklearn.linear_model import PoissonRegressor\n",
    "from sklearn.ensemble import RandomForestRegressor\n",
    "from sklearn.preprocessing import LabelEncoder\n",
    "from sklearn.metrics import mean_squared_error, mean_absolute_percentage_error\n",
    "\n",
    "# Set random seed for reproducibility\n",
    "np.random.seed(42)\n",
    "\n",
    "print(\"=\"*80)\n",
    "print(\"PARKING TICKET HOTSPOT PREDICTION ANALYSIS\")\n",
    "print(\"Thunder Pandas - DS 4002\")\n",
    "print(\"=\"*80)"
   ]
  },
  {
   "cell_type": "code",
   "execution_count": null,
   "id": "591bc358",
   "metadata": {
    "vscode": {
     "languageId": "plaintext"
    }
   },
   "outputs": [],
   "source": [
    "# =============================================================================\n",
    "# STEP 1: LOAD AND CLEAN DATA\n",
    "# =============================================================================\n",
    "print(\"\\n[STEP 1] Loading and cleaning parking ticket data...\")\n",
    "\n",
    "# Load the data\n",
    "# NOTE: Update this path to match your data location\n",
    "df = pd.read_csv('Parking_Tickets.csv')\n",
    "\n",
    "print(f\"Initial dataset shape: {df.shape}\")\n",
    "print(f\"Columns: {df.columns.tolist()}\")\n",
    "\n",
    "# Parse datetime columns\n",
    "df['DateIssued'] = pd.to_datetime(df['DateIssued'], errors='coerce')\n",
    "df['TimeIssued'] = pd.to_datetime(df['TimeIssued'], format='%H:%M', errors='coerce').dt.time\n",
    "\n",
    "# Remove rows with missing critical information\n",
    "initial_count = len(df)\n",
    "df = df.dropna(subset=['DateIssued', 'StreetName'])\n",
    "print(f\"Removed {initial_count - len(df)} rows with missing DateIssued or StreetName\")\n",
    "\n",
    "# Standardize street names (remove extra spaces, convert to uppercase)\n",
    "df['StreetName'] = df['StreetName'].str.strip().str.upper()\n",
    "\n",
    "# Remove \"Void\" violations as they are likely administrative errors\n",
    "df = df[df['ViolationDescription'] != 'Void']\n",
    "print(f\"Removed void tickets. Current shape: {df.shape}\")\n",
    "\n",
    "# Filter to reasonable date range (2010 onwards for better data quality)\n",
    "df = df[df['DateIssued'] >= '2010-01-01']\n",
    "print(f\"Filtered to 2010 onwards. Current shape: {df.shape}\")\n",
    "\n",
    "# Remove duplicate tickets\n",
    "df = df.drop_duplicates(subset=['TicketNumber'])\n",
    "print(f\"After removing duplicates: {df.shape}\")\n",
    "\n",
    "print(f\"\\nCleaned dataset shape: {df.shape}\")\n",
    "print(f\"Date range: {df['DateIssued'].min()} to {df['DateIssued'].max()}\")\n"
   ]
  },
  {
   "cell_type": "code",
   "execution_count": null,
   "id": "32331669",
   "metadata": {
    "vscode": {
     "languageId": "plaintext"
    }
   },
   "outputs": [],
   "source": [
    "# =============================================================================\n",
    "# STEP 2: CREATE TEMPORAL AND STREET-LEVEL FEATURES\n",
    "# =============================================================================\n",
    "print(\"\\n[STEP 2] Creating temporal and street-level features...\")\n",
    "\n",
    "# Extract temporal features\n",
    "df['Year'] = df['DateIssued'].dt.year\n",
    "df['Month'] = df['DateIssued'].dt.month\n",
    "df['Day'] = df['DateIssued'].dt.day\n",
    "df['DayOfWeek'] = df['DateIssued'].dt.dayofweek  # 0=Monday, 6=Sunday\n",
    "df['DayName'] = df['DateIssued'].dt.day_name()\n",
    "df['Hour'] = pd.to_datetime(df['TimeIssued'].astype(str), format='%H:%M:%S', errors='coerce').dt.hour\n",
    "df['IsWeekend'] = df['DayOfWeek'].isin([5, 6]).astype(int)\n",
    "\n",
    "# Create season feature\n",
    "def get_season(month):\n",
    "    if month in [12, 1, 2]:\n",
    "        return 'Winter'\n",
    "    elif month in [3, 4, 5]:\n",
    "        return 'Spring'\n",
    "    elif month in [6, 7, 8]:\n",
    "        return 'Summer'\n",
    "    else:\n",
    "        return 'Fall'\n",
    "\n",
    "df['Season'] = df['Month'].apply(get_season)\n",
    "\n",
    "# Create date for aggregation\n",
    "df['Date'] = df['DateIssued'].dt.date\n",
    "\n",
    "print(f\"Created temporal features: Year, Month, Day, DayOfWeek, Hour, IsWeekend, Season\")\n"
   ]
  },
  {
   "cell_type": "code",
   "execution_count": null,
   "id": "c2afc349",
   "metadata": {
    "vscode": {
     "languageId": "plaintext"
    }
   },
   "outputs": [],
   "source": [
    "# =============================================================================\n",
    "# STEP 3: AGGREGATE DATA BY STREET AND TIME\n",
    "# =============================================================================\n",
    "print(\"\\n[STEP 3] Aggregating ticket counts by street and date...\")\n",
    "\n",
    "# Aggregate by street and date\n",
    "daily_street = df.groupby(['Date', 'StreetName']).size().reset_index(name='TicketCount')\n",
    "daily_street['Date'] = pd.to_datetime(daily_street['Date'])\n",
    "\n",
    "# Add temporal features back\n",
    "daily_street['Year'] = daily_street['Date'].dt.year\n",
    "daily_street['Month'] = daily_street['Date'].dt.month\n",
    "daily_street['DayOfWeek'] = daily_street['Date'].dt.dayofweek\n",
    "daily_street['IsWeekend'] = daily_street['DayOfWeek'].isin([5, 6]).astype(int)\n",
    "daily_street['Season'] = daily_street['Month'].apply(get_season)\n",
    "\n",
    "print(f\"Aggregated dataset shape: {daily_street.shape}\")\n",
    "print(f\"Date range: {daily_street['Date'].min()} to {daily_street['Date'].max()}\")\n",
    "\n",
    "# Calculate street-level features\n",
    "street_stats = df.groupby('StreetName').size().reset_index(name='TotalTickets')\n",
    "street_stats['AvgTicketsPerDay'] = street_stats['TotalTickets'] / \\\n",
    "    (df['Date'].max() - df['Date'].min()).days\n",
    "\n",
    "# Merge street stats\n",
    "daily_street = daily_street.merge(street_stats[['StreetName', 'AvgTicketsPerDay']],\n",
    "                                   on='StreetName', how='left')\n",
    "\n",
    "# Focus on top streets to reduce noise and improve model performance\n",
    "top_streets = street_stats.nlargest(50, 'TotalTickets')['StreetName'].tolist()\n",
    "daily_street = daily_street[daily_street['StreetName'].isin(top_streets)]\n",
    "print(f\"Filtered to top 50 streets. Shape: {daily_street.shape}\")\n"
   ]
  },
  {
   "cell_type": "code",
   "execution_count": null,
   "id": "8850bcb1",
   "metadata": {
    "vscode": {
     "languageId": "plaintext"
    }
   },
   "outputs": [],
   "source": [
    "# =============================================================================\n",
    "# STEP 4: PREPARE FEATURES FOR MODELING\n",
    "# =============================================================================\n",
    "print(\"\\n[STEP 4] Preparing features for modeling...\")\n",
    "\n",
    "# Encode categorical variables\n",
    "le_street = LabelEncoder()\n",
    "le_season = LabelEncoder()\n",
    "\n",
    "daily_street['StreetName_Encoded'] = le_street.fit_transform(daily_street['StreetName'])\n",
    "daily_street['Season_Encoded'] = le_season.fit_transform(daily_street['Season'])\n",
    "\n",
    "# Sort by date for time series split\n",
    "daily_street = daily_street.sort_values('Date').reset_index(drop=True)\n",
    "\n",
    "# Select features for modeling\n",
    "feature_cols = ['Month', 'DayOfWeek', 'IsWeekend', 'Season_Encoded',\n",
    "                'StreetName_Encoded', 'AvgTicketsPerDay']\n",
    "X = daily_street[feature_cols]\n",
    "y = daily_street['TicketCount']\n",
    "\n",
    "print(f\"Feature matrix shape: {X.shape}\")\n",
    "print(f\"Target variable shape: {y.shape}\")\n",
    "print(f\"Features used: {feature_cols}\")"
   ]
  }
 ],
 "metadata": {
  "language_info": {
   "name": "python"
  }
 },
 "nbformat": 4,
 "nbformat_minor": 5
}
